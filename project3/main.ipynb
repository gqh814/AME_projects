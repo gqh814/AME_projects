{
 "cells": [
  {
   "cell_type": "markdown",
   "metadata": {},
   "source": [
    "# Project II: Economic Growth \n",
    "\n",
    "This notebook will help you getting started with analyzing the growth dataset, `growth.csv`."
   ]
  },
  {
   "cell_type": "code",
   "execution_count": null,
   "metadata": {},
   "outputs": [],
   "source": [
    "import pandas as pd \n",
    "import numpy as np \n",
    "import statsmodels.formula.api as smf\n",
    "import matplotlib.pyplot as plt\n",
    "import estimation as est\n",
    "from numpy import linalg as la\n",
    "\n",
    "%load_ext autoreload\n",
    "%autoreload 2\n",
    "import tools as lm "
   ]
  },
  {
   "cell_type": "markdown",
   "metadata": {},
   "source": [
    "## Read data "
   ]
  },
  {
   "cell_type": "code",
   "execution_count": null,
   "metadata": {},
   "outputs": [],
   "source": [
    "dat = pd.read_csv('data/ppcs_cc.csv')\n",
    "assert len(dat.year.unique())==1\n",
    "\n",
    "# characteristics\n",
    "print(f'The data contains {dat.shape[0]} rows and {dat.shape[1]} columns (variables) and is cross-sectional \\n')\n",
    "print(f'Variables are \\n {dat.columns} \\n')\n",
    "dat "
   ]
  },
  {
   "cell_type": "code",
   "execution_count": null,
   "metadata": {},
   "outputs": [],
   "source": [
    "dat.groupby('sblack')['anyuseofforce_coded'].mean()"
   ]
  },
  {
   "cell_type": "code",
   "execution_count": null,
   "metadata": {},
   "outputs": [],
   "source": [
    "# define y and x \n",
    "N,K = dat.shape\n",
    "\n",
    "y = dat['anyuseofforce_coded'].to_numpy().reshape((N,))\n",
    "\n",
    "# x_drop = ['anyuseofforce_coded', # y\n",
    "#           'year', # constant\n",
    "#           'swhite', # reference dummy\n",
    "#           'omajwhite', \n",
    "#           ]\n",
    "# x_keep = [i for i in dat.columns if i not in x_drop]\n",
    "# x = dat[x_keep].to_numpy().reshape((N,K-len(x_drop)))\n",
    "x_lab = ['sblack', 'shisp', 'swhite', 'sother']\n",
    "x = dat[x_lab].to_numpy().reshape((N,len(x_lab)))\n",
    "\n",
    "# labels\n",
    "y_lab = ['anyuseofforce_coded']\n"
   ]
  },
  {
   "cell_type": "code",
   "execution_count": 88,
   "metadata": {},
   "outputs": [
    {
     "data": {
      "text/plain": [
       "(3799,)"
      ]
     },
     "execution_count": 88,
     "metadata": {},
     "output_type": "execute_result"
    }
   ],
   "source": [
    "y.shape"
   ]
  },
  {
   "cell_type": "code",
   "execution_count": 89,
   "metadata": {},
   "outputs": [],
   "source": [
    "# variable categories\n",
    "race = ['sblack', 'shisp', 'swhite', 'sother']\n",
    "gender = ['smale']\n"
   ]
  },
  {
   "cell_type": "code",
   "execution_count": 90,
   "metadata": {},
   "outputs": [
    {
     "data": {
      "text/plain": [
       "array([0.02857143, 0.06217617, 0.01282051, 0.02162162])"
      ]
     },
     "execution_count": 90,
     "metadata": {},
     "output_type": "execute_result"
    }
   ],
   "source": [
    "theta0 = lm.starting_values(y,x)\n",
    "theta0"
   ]
  },
  {
   "cell_type": "code",
   "execution_count": 91,
   "metadata": {},
   "outputs": [
    {
     "data": {
      "text/plain": [
       "-2670.9682180872105"
      ]
     },
     "execution_count": 91,
     "metadata": {},
     "output_type": "execute_result"
    }
   ],
   "source": [
    "ll = lm.loglikelihood(theta0, y, x)\n",
    "ll.sum()\n"
   ]
  },
  {
   "cell_type": "code",
   "execution_count": 92,
   "metadata": {},
   "outputs": [
    {
     "name": "stdout",
     "output_type": "stream",
     "text": [
      "Optimization terminated successfully.\n",
      "         Current function value: 0.030440\n",
      "         Iterations: 53\n",
      "         Function evaluations: 275\n",
      "         Gradient evaluations: 55\n"
     ]
    }
   ],
   "source": [
    "logit_results = est.estimate(lm.q, theta0, y, x)"
   ]
  },
  {
   "cell_type": "code",
   "execution_count": 93,
   "metadata": {},
   "outputs": [
    {
     "name": "stdout",
     "output_type": "stream",
     "text": [
      "Optimizer succeded after 53 iter. (275 func. evals.). Final criterion:  0.03044.\n",
      "Logit, y = ['anyuseofforce_coded']\n"
     ]
    },
    {
     "data": {
      "text/html": [
       "<div>\n",
       "<style scoped>\n",
       "    .dataframe tbody tr th:only-of-type {\n",
       "        vertical-align: middle;\n",
       "    }\n",
       "\n",
       "    .dataframe tbody tr th {\n",
       "        vertical-align: top;\n",
       "    }\n",
       "\n",
       "    .dataframe thead th {\n",
       "        text-align: right;\n",
       "    }\n",
       "</style>\n",
       "<table border=\"1\" class=\"dataframe\">\n",
       "  <thead>\n",
       "    <tr style=\"text-align: right;\">\n",
       "      <th></th>\n",
       "      <th>theta</th>\n",
       "      <th>se</th>\n",
       "      <th>t</th>\n",
       "    </tr>\n",
       "  </thead>\n",
       "  <tbody>\n",
       "    <tr>\n",
       "      <th>sblack</th>\n",
       "      <td>-4.9322</td>\n",
       "      <td>0.5794</td>\n",
       "      <td>-8.5122</td>\n",
       "    </tr>\n",
       "    <tr>\n",
       "      <th>shisp</th>\n",
       "      <td>-4.1509</td>\n",
       "      <td>0.4115</td>\n",
       "      <td>-10.0882</td>\n",
       "    </tr>\n",
       "    <tr>\n",
       "      <th>swhite</th>\n",
       "      <td>-5.7396</td>\n",
       "      <td>0.3339</td>\n",
       "      <td>-17.1911</td>\n",
       "    </tr>\n",
       "    <tr>\n",
       "      <th>sother</th>\n",
       "      <td>-5.2117</td>\n",
       "      <td>1.0027</td>\n",
       "      <td>-5.1976</td>\n",
       "    </tr>\n",
       "  </tbody>\n",
       "</table>\n",
       "</div>"
      ],
      "text/plain": [
       "         theta      se        t\n",
       "sblack -4.9322  0.5794  -8.5122\n",
       "shisp  -4.1509  0.4115 -10.0882\n",
       "swhite -5.7396  0.3339 -17.1911\n",
       "sother -5.2117  1.0027  -5.1976"
      ]
     },
     "execution_count": 93,
     "metadata": {},
     "output_type": "execute_result"
    }
   ],
   "source": [
    "logit_tab = est.print_table(x_lab, logit_results, title=f'Logit, y = {y_lab}')\n",
    "logit_tab"
   ]
  },
  {
   "cell_type": "code",
   "execution_count": null,
   "metadata": {},
   "outputs": [],
   "source": []
  }
 ],
 "metadata": {
  "kernelspec": {
   "display_name": "base",
   "language": "python",
   "name": "python3"
  },
  "language_info": {
   "codemirror_mode": {
    "name": "ipython",
    "version": 3
   },
   "file_extension": ".py",
   "mimetype": "text/x-python",
   "name": "python",
   "nbconvert_exporter": "python",
   "pygments_lexer": "ipython3",
   "version": "3.9.13"
  },
  "vscode": {
   "interpreter": {
    "hash": "c2ae48c162d131f82ef151729d267408cc9eb575d785b70245b45a17416079a0"
   }
  }
 },
 "nbformat": 4,
 "nbformat_minor": 4
}

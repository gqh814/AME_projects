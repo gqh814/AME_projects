{
 "cells": [
  {
   "cell_type": "markdown",
   "metadata": {},
   "source": [
    "# Production Technology\n",
    "\n",
    "The dataset contains `N = 441` firms observed over `T = 12` years, 1968-1979. There variables are: \n",
    "* `lcap`: Log of capital stock, $k_{it}$ \n",
    "* `lemp`: log of employment, $\\ell_{it}$ \n",
    "* `ldsa`: log of deflated sales, $y_{it}$\n",
    "* `year`: the calendar year of the observation, `year` $ = 1968, ..., 1979$, \n",
    "* `firmid`: anonymized indicator variable for the firm, $i = 1, ..., N$, with $N=441$. "
   ]
  },
  {
   "cell_type": "code",
   "execution_count": 32,
   "metadata": {},
   "outputs": [
    {
     "name": "stdout",
     "output_type": "stream",
     "text": [
      "The autoreload extension is already loaded. To reload it, use:\n",
      "  %reload_ext autoreload\n"
     ]
    }
   ],
   "source": [
    "%load_ext autoreload\n",
    "%autoreload 2\n",
    "import pandas as pd \n",
    "import numpy as np\n",
    "import seaborn as sns\n",
    "\n",
    "import linear_panel_class as lm \n",
    "# content in lm is approximately the same as in the exercises\n",
    "# only major change is that 'robust' is added as argument in estimate()\n",
    "# to compute robust standard errors."
   ]
  },
  {
   "cell_type": "markdown",
   "metadata": {},
   "source": [
    "# Converting data to numpy format "
   ]
  },
  {
   "cell_type": "code",
   "execution_count": 33,
   "metadata": {},
   "outputs": [
    {
     "data": {
      "text/plain": [
       "array([1969, 1971, 1973, 1975, 1977, 1979])"
      ]
     },
     "execution_count": 33,
     "metadata": {},
     "output_type": "execute_result"
    }
   ],
   "source": [
    "# load data and extract odd years \n",
    "dat = pd.read_csv('firms.csv')\n",
    "df = dat[dat['year'] % 2 != 0]\n",
    "df.year.unique()\n"
   ]
  },
  {
   "cell_type": "code",
   "execution_count": 34,
   "metadata": {},
   "outputs": [
    {
     "data": {
      "text/html": [
       "<div>\n",
       "<style scoped>\n",
       "    .dataframe tbody tr th:only-of-type {\n",
       "        vertical-align: middle;\n",
       "    }\n",
       "\n",
       "    .dataframe tbody tr th {\n",
       "        vertical-align: top;\n",
       "    }\n",
       "\n",
       "    .dataframe thead th {\n",
       "        text-align: right;\n",
       "    }\n",
       "</style>\n",
       "<table border=\"1\" class=\"dataframe\">\n",
       "  <thead>\n",
       "    <tr style=\"text-align: right;\">\n",
       "      <th></th>\n",
       "      <th>firmid</th>\n",
       "      <th>year</th>\n",
       "      <th>lcap</th>\n",
       "      <th>lemp</th>\n",
       "      <th>ldsa</th>\n",
       "    </tr>\n",
       "  </thead>\n",
       "  <tbody>\n",
       "    <tr>\n",
       "      <th>1095</th>\n",
       "      <td>92</td>\n",
       "      <td>1971</td>\n",
       "      <td>-1.239200</td>\n",
       "      <td>-1.317150</td>\n",
       "      <td>-1.228270</td>\n",
       "    </tr>\n",
       "    <tr>\n",
       "      <th>5081</th>\n",
       "      <td>424</td>\n",
       "      <td>1973</td>\n",
       "      <td>-0.966244</td>\n",
       "      <td>-1.303210</td>\n",
       "      <td>-0.392633</td>\n",
       "    </tr>\n",
       "    <tr>\n",
       "      <th>2109</th>\n",
       "      <td>176</td>\n",
       "      <td>1977</td>\n",
       "      <td>-0.190552</td>\n",
       "      <td>-0.637710</td>\n",
       "      <td>-0.120366</td>\n",
       "    </tr>\n",
       "    <tr>\n",
       "      <th>689</th>\n",
       "      <td>58</td>\n",
       "      <td>1973</td>\n",
       "      <td>3.019007</td>\n",
       "      <td>2.562719</td>\n",
       "      <td>2.718959</td>\n",
       "    </tr>\n",
       "    <tr>\n",
       "      <th>677</th>\n",
       "      <td>57</td>\n",
       "      <td>1973</td>\n",
       "      <td>-1.045450</td>\n",
       "      <td>-1.076840</td>\n",
       "      <td>-0.959792</td>\n",
       "    </tr>\n",
       "  </tbody>\n",
       "</table>\n",
       "</div>"
      ],
      "text/plain": [
       "      firmid  year      lcap      lemp      ldsa\n",
       "1095      92  1971 -1.239200 -1.317150 -1.228270\n",
       "5081     424  1973 -0.966244 -1.303210 -0.392633\n",
       "2109     176  1977 -0.190552 -0.637710 -0.120366\n",
       "689       58  1973  3.019007  2.562719  2.718959\n",
       "677       57  1973 -1.045450 -1.076840 -0.959792"
      ]
     },
     "execution_count": 34,
     "metadata": {},
     "output_type": "execute_result"
    }
   ],
   "source": [
    "df.sample(5)"
   ]
  },
  {
   "cell_type": "code",
   "execution_count": 35,
   "metadata": {},
   "outputs": [
    {
     "data": {
      "text/html": [
       "<div>\n",
       "<style scoped>\n",
       "    .dataframe tbody tr th:only-of-type {\n",
       "        vertical-align: middle;\n",
       "    }\n",
       "\n",
       "    .dataframe tbody tr th {\n",
       "        vertical-align: top;\n",
       "    }\n",
       "\n",
       "    .dataframe thead th {\n",
       "        text-align: right;\n",
       "    }\n",
       "</style>\n",
       "<table border=\"1\" class=\"dataframe\">\n",
       "  <thead>\n",
       "    <tr style=\"text-align: right;\">\n",
       "      <th></th>\n",
       "      <th>firmid</th>\n",
       "      <th>year</th>\n",
       "      <th>lcap</th>\n",
       "      <th>lemp</th>\n",
       "      <th>ldsa</th>\n",
       "    </tr>\n",
       "  </thead>\n",
       "  <tbody>\n",
       "    <tr>\n",
       "      <th>count</th>\n",
       "      <td>2646.00000</td>\n",
       "      <td>2646.000000</td>\n",
       "      <td>2.646000e+03</td>\n",
       "      <td>2.646000e+03</td>\n",
       "      <td>2.646000e+03</td>\n",
       "    </tr>\n",
       "    <tr>\n",
       "      <th>mean</th>\n",
       "      <td>221.00000</td>\n",
       "      <td>1974.000000</td>\n",
       "      <td>3.740325e-08</td>\n",
       "      <td>-8.049887e-09</td>\n",
       "      <td>1.080877e-09</td>\n",
       "    </tr>\n",
       "    <tr>\n",
       "      <th>std</th>\n",
       "      <td>127.32947</td>\n",
       "      <td>3.416296</td>\n",
       "      <td>1.306042e+00</td>\n",
       "      <td>1.176767e+00</td>\n",
       "      <td>1.231411e+00</td>\n",
       "    </tr>\n",
       "    <tr>\n",
       "      <th>min</th>\n",
       "      <td>1.00000</td>\n",
       "      <td>1969.000000</td>\n",
       "      <td>-3.813680e+00</td>\n",
       "      <td>-3.382780e+00</td>\n",
       "      <td>-3.546920e+00</td>\n",
       "    </tr>\n",
       "    <tr>\n",
       "      <th>25%</th>\n",
       "      <td>111.00000</td>\n",
       "      <td>1971.000000</td>\n",
       "      <td>-8.989662e-01</td>\n",
       "      <td>-7.841960e-01</td>\n",
       "      <td>-9.286770e-01</td>\n",
       "    </tr>\n",
       "    <tr>\n",
       "      <th>50%</th>\n",
       "      <td>221.00000</td>\n",
       "      <td>1974.000000</td>\n",
       "      <td>-1.139890e-01</td>\n",
       "      <td>-1.139230e-01</td>\n",
       "      <td>-1.006760e-01</td>\n",
       "    </tr>\n",
       "    <tr>\n",
       "      <th>75%</th>\n",
       "      <td>331.00000</td>\n",
       "      <td>1977.000000</td>\n",
       "      <td>9.105642e-01</td>\n",
       "      <td>7.858111e-01</td>\n",
       "      <td>8.524479e-01</td>\n",
       "    </tr>\n",
       "    <tr>\n",
       "      <th>max</th>\n",
       "      <td>441.00000</td>\n",
       "      <td>1979.000000</td>\n",
       "      <td>4.103687e+00</td>\n",
       "      <td>3.324889e+00</td>\n",
       "      <td>3.913391e+00</td>\n",
       "    </tr>\n",
       "  </tbody>\n",
       "</table>\n",
       "</div>"
      ],
      "text/plain": [
       "           firmid         year          lcap          lemp          ldsa\n",
       "count  2646.00000  2646.000000  2.646000e+03  2.646000e+03  2.646000e+03\n",
       "mean    221.00000  1974.000000  3.740325e-08 -8.049887e-09  1.080877e-09\n",
       "std     127.32947     3.416296  1.306042e+00  1.176767e+00  1.231411e+00\n",
       "min       1.00000  1969.000000 -3.813680e+00 -3.382780e+00 -3.546920e+00\n",
       "25%     111.00000  1971.000000 -8.989662e-01 -7.841960e-01 -9.286770e-01\n",
       "50%     221.00000  1974.000000 -1.139890e-01 -1.139230e-01 -1.006760e-01\n",
       "75%     331.00000  1977.000000  9.105642e-01  7.858111e-01  8.524479e-01\n",
       "max     441.00000  1979.000000  4.103687e+00  3.324889e+00  3.913391e+00"
      ]
     },
     "execution_count": 35,
     "metadata": {},
     "output_type": "execute_result"
    }
   ],
   "source": [
    "df.describe()"
   ]
  },
  {
   "cell_type": "code",
   "execution_count": 36,
   "metadata": {},
   "outputs": [
    {
     "name": "stdout",
     "output_type": "stream",
     "text": [
      "Data has N=441 and T=6\n"
     ]
    }
   ],
   "source": [
    "# define N & T in data \n",
    "N = df.firmid.unique().size\n",
    "T = df.year.unique().size\n",
    "assert df.shape[0] == N*T, f'Error: data is not a balanced panel'\n",
    "print(f'Data has N={N} and T={T}')"
   ]
  },
  {
   "cell_type": "markdown",
   "metadata": {},
   "source": [
    "Extract data from `pandas` to `numpy` arrays. "
   ]
  },
  {
   "cell_type": "code",
   "execution_count": 37,
   "metadata": {},
   "outputs": [],
   "source": [
    "y = df.ldsa.values.reshape((N*T,1))\n",
    "y_label = ['ldsa']\n",
    "\n",
    "ones = np.ones((N*T,1))\n",
    "l = df.lemp.values.reshape((N*T,1))\n",
    "k = df.lcap.values.reshape((N*T,1))\n",
    "x = np.hstack([ones, l, k])\n",
    "x_label = ['intercept', 'lemp', 'capital']"
   ]
  },
  {
   "cell_type": "markdown",
   "metadata": {},
   "source": [
    "# Estimate FE and FD"
   ]
  },
  {
   "cell_type": "code",
   "execution_count": 38,
   "metadata": {},
   "outputs": [
    {
     "name": "stdout",
     "output_type": "stream",
     "text": [
      "---------------------------------------------\n",
      "Fixed Effects\n",
      "Dependent variable: ['ldsa']\n",
      "\n",
      "           Beta      Se    t-values\n",
      "-------  ------  ------  ----------\n",
      "lemp     0.7069  0.0221     32.0114\n",
      "capital  0.1424  0.0197      7.2402\n",
      "R² = 0.468\n",
      "σ² = 0.019\n",
      "Robust standard errors: False\n"
     ]
    }
   ],
   "source": [
    "### print FE estimation\n",
    "# create transformation matrix\n",
    "def demeaning_matrix(T):\n",
    "    Q_T =  np.eye(T) - np.ones((T,T))/T\n",
    "    return Q_T\n",
    "\n",
    "# transform the data\n",
    "Q_T = demeaning_matrix(T)\n",
    "y_dot = lm.perm(Q_T, y)\n",
    "x_dot = lm.perm(Q_T, x)\n",
    "\n",
    "# remove columns with only zeros\n",
    "x_dot, x_dot_label = lm.remove_zero_columns(x_dot, x_label)\n",
    "\n",
    "# estimate \n",
    "fe_result = lm.estimate(y_dot, x_dot, transform='fe', T=T, robust=False)\n",
    "\n",
    "# print \n",
    "lm.print_table((y_label, x_dot_label), fe_result, title=\"Fixed Effects\", floatfmt='.4f')"
   ]
  },
  {
   "cell_type": "code",
   "execution_count": 39,
   "metadata": {},
   "outputs": [
    {
     "name": "stdout",
     "output_type": "stream",
     "text": [
      "---------------------------------------------\n",
      "First Difference\n",
      "Dependent variable: ['ldsa']\n",
      "\n",
      "           Beta      Se    t-values\n",
      "-------  ------  ------  ----------\n",
      "lemp     0.7253  0.0248     29.2665\n",
      "capital  0.0547  0.0235      2.3307\n",
      "R² = 0.313\n",
      "σ² = 0.022\n",
      "Robust standard errors: False\n"
     ]
    }
   ],
   "source": [
    "### print FD estimation\n",
    "# Create transformation matrix\n",
    "def fd_matrix(T):\n",
    "    # Initialize a (T-1) x T matrix filled with zeros\n",
    "    D_T = np.zeros((T-1, T))\n",
    "    \n",
    "    # Fill the matrix according to the first-difference structure\n",
    "    for i in range(T-1):\n",
    "        D_T[i, i] = -1\n",
    "        D_T[i, i+1] = 1\n",
    "    \n",
    "    return D_T #(T-1)xT\n",
    "\n",
    "D_T = fd_matrix(T) # (T-1)xT matrix\n",
    "y_diff = lm.perm(D_T,y)\n",
    "x_diff = lm.perm(D_T,x)\n",
    "\n",
    "# remove columns with only zeros\n",
    "x_diff, x_diff_label = lm.remove_zero_columns(x_diff, x_label)\n",
    "\n",
    "# estimate \n",
    "fd_result = lm.estimate(y_diff, x_diff, transform = 'fd', T = T-1)\n",
    "\n",
    "# print\n",
    "lm.print_table((y_label, x_diff_label), fd_result, title=\"First Difference\", floatfmt='.4f')"
   ]
  },
  {
   "cell_type": "markdown",
   "metadata": {},
   "source": [
    "# Check for autocorrelation in FE- and FD-residuals "
   ]
  },
  {
   "cell_type": "code",
   "execution_count": 40,
   "metadata": {},
   "outputs": [
    {
     "name": "stdout",
     "output_type": "stream",
     "text": [
      "---------------------------------------------\n",
      "H0: the time-demeaned errors are serially CORRELATED\n",
      "Dependent variable: ['u_hat']\n",
      "\n",
      "            Beta      Se    t-values\n",
      "--------  ------  ------  ----------\n",
      "u_hat_L1  0.1681  0.0267      6.2874\n",
      "R² = 0.028\n",
      "σ² = 0.015\n",
      "Robust standard errors: True\n"
     ]
    }
   ],
   "source": [
    "### check for autocorrelation in FE-residuals (Woolridge p. 275)\n",
    "# define residuals (+ lagged), remove lagged observation\n",
    "u_hat = fe_result.get('u_hat')  \n",
    "\n",
    "u_hat_L1 = np.roll(u_hat, 1)\n",
    "u_hat_L1[0] = np.nan\n",
    "\n",
    "valid_indices = ~np.isnan(u_hat_L1)\n",
    "u_hat_clean = u_hat[valid_indices].reshape(1,N*T-1).T\n",
    "u_hat_L1_clean = u_hat_L1[valid_indices].reshape(1,N*T-1).T\n",
    "\n",
    "# perform POLS with robust s.e. \n",
    "fe_robust = lm.estimate(u_hat_clean, u_hat_L1_clean, transform='', robust=True)\n",
    "\n",
    "# print results \n",
    "lm.print_table((['u_hat'], ['u_hat_L1']), fe_robust, title=\"H0: the time-demeaned errors are serially CORRELATED\", floatfmt='.4f')\n",
    "\n",
    "# -> we reject the null, thus this suggest that we can use homoskedastic errros, and under FE.1-3 that FE is efficient. "
   ]
  },
  {
   "cell_type": "code",
   "execution_count": 41,
   "metadata": {},
   "outputs": [
    {
     "name": "stdout",
     "output_type": "stream",
     "text": [
      "---------------------------------------------\n",
      "H0: the time-demeaned errors are serially CORRELATED\n",
      "Dependent variable: ['u_hat']\n",
      "\n",
      "             Beta      Se    t-values\n",
      "--------  -------  ------  ----------\n",
      "u_hat_L1  -0.2166  0.0208    -10.4049\n",
      "R² = 0.047\n",
      "σ² = 0.021\n",
      "Robust standard errors: False\n"
     ]
    }
   ],
   "source": [
    "### Check for autocorrelation in FD residuals (W, p. 282)\n",
    "# define residuals (+ lagged)\n",
    "u_hat = fd_result.get('u_hat')  \n",
    "\n",
    "u_hat_L1 = np.roll(u_hat, 1)\n",
    "u_hat_L1[0] = np.nan\n",
    "\n",
    "valid_indices = ~np.isnan(u_hat_L1)\n",
    "\n",
    "u_hat_clean = u_hat[valid_indices].reshape(1,N*(T-1)-1).T\n",
    "u_hat_L1_clean = u_hat_L1[valid_indices].reshape(1,N*(T-1)-1).T\n",
    "\n",
    "# perform POLS \n",
    "fe_robust = lm.estimate(u_hat_clean, u_hat_L1_clean, transform='')\n",
    "\n",
    "# print results \n",
    "lm.print_table((['u_hat'], ['u_hat_L1']), fe_robust, title=\"H0: the time-demeaned errors are serially CORRELATED\", floatfmt='.4f')\n",
    "\n",
    "# NULL: the error term should be serially uncorrelated\n",
    "# finding of significant serial correlation in the error warrants computing the robust variance matrix for the FD estimator \n",
    "# -> we reject the null, which suggest that the error term is serially CORRELATED. Thus, we should use HETEROSKEDASTIC ERRORS\n"
   ]
  },
  {
   "cell_type": "markdown",
   "metadata": {},
   "source": [
    "# Exogenity test for FE"
   ]
  },
  {
   "cell_type": "code",
   "execution_count": 42,
   "metadata": {},
   "outputs": [
    {
     "name": "stdout",
     "output_type": "stream",
     "text": [
      "H0: Exogenity. \n",
      "After controlling for x, then lead variable of x should have no partial effect.\n",
      "---------------------------------------------\n",
      "Fixed Effects\n",
      "Dependent variable: ['ldsa']\n",
      "\n",
      "             Beta      Se    t-values\n",
      "---------  ------  ------  ----------\n",
      "lemp       0.6633  0.0271     24.4330\n",
      "lcap       0.1302  0.0215      6.0510\n",
      "lemp_lead  0.0718  0.0256      2.8015\n",
      "R² = 0.453\n",
      "σ² = 0.015\n",
      "Robust standard errors: False\n",
      "---------------------------------------------\n",
      "Fixed Effects\n",
      "Dependent variable: ['ldsa']\n",
      "\n",
      "             Beta      Se    t-values\n",
      "---------  ------  ------  ----------\n",
      "lemp       0.6628  0.0254     26.0652\n",
      "lcap       0.0865  0.0239      3.6217\n",
      "lcap_lead  0.1148  0.0264      4.3531\n",
      "R² = 0.457\n",
      "σ² = 0.015\n",
      "Robust standard errors: False\n"
     ]
    }
   ],
   "source": [
    "### do FE exogenity test (Woolridge, p. 285)\n",
    "# Sort by firmid and year\n",
    "df_sorted = df.sort_values(['firmid', 'year'])\n",
    "\n",
    "# Step 1: Redefine N and T based on the data\n",
    "N = df_sorted['firmid'].nunique()  \n",
    "T = df_sorted['year'].nunique()   \n",
    "\n",
    "# Step 2: Create the demeaning matrix for T periods\n",
    "def demeaning_matrix(T):\n",
    "    Q_T =  np.eye(T) - np.ones((T, T)) / T\n",
    "    return Q_T\n",
    "\n",
    "Q_T = demeaning_matrix(T)\n",
    "\n",
    "# Step 3: Demean the data for each firm\n",
    "# Reshape and apply demeaning by firm using groupby\n",
    "def demean_by_firm(df, col_name, Q_T):\n",
    "    firm_groups = df.groupby('firmid')[col_name]\n",
    "    demeaned_values = firm_groups.transform(lambda x: Q_T @ x.values)\n",
    "    return demeaned_values\n",
    "\n",
    "df_sorted['lcap_demeaned'] = demean_by_firm(df_sorted, 'lcap', Q_T)\n",
    "df_sorted['lemp_demeaned'] = demean_by_firm(df_sorted, 'lemp', Q_T)\n",
    "df_sorted['ldsa_demeaned'] = demean_by_firm(df_sorted, 'ldsa', Q_T)\n",
    "\n",
    "# Step 4: Calculate lead variables on the demeaned data\n",
    "df_sorted['lcap_lead'] = df_sorted.groupby('firmid')['lcap_demeaned'].shift(-1)\n",
    "df_sorted['lemp_lead'] = df_sorted.groupby('firmid')['lemp_demeaned'].shift(-1)\n",
    "\n",
    "# Step 5: Drop last year for each firm to avoid missing lead values\n",
    "last_year = df_sorted['year'].max()\n",
    "cond = df_sorted['year'] != last_year\n",
    "df_ss = df_sorted[cond]\n",
    "T = df_ss['year'].nunique() # update T  \n",
    "\n",
    "# Step 6: Convert the relevant columns to numpy arrays\n",
    "y = df_ss['ldsa_demeaned'].values.reshape((-1, 1))\n",
    "y_label = ['ldsa']\n",
    "\n",
    "ones = np.ones((df_ss.shape[0], 1))\n",
    "l = df_ss['lemp_demeaned'].values.reshape((-1, 1))\n",
    "k = df_ss['lcap_demeaned'].values.reshape((-1, 1))\n",
    "\n",
    "x = np.hstack([ones, l, k])\n",
    "x_label = ['intercept', 'lemp', 'lcap']\n",
    "\n",
    "l_lead = df_ss['lemp_lead'].values.reshape((-1, 1))\n",
    "k_lead = df_ss['lcap_lead'].values.reshape((-1, 1))\n",
    "\n",
    "# Step 7: Estimate FE adding different leads of x to the regrossers\n",
    "w_dict = {'lemp_lead': l_lead, 'lcap_lead': k_lead}\n",
    "\n",
    "print('H0: Exogenity. \\nAfter controlling for x, then lead variable of x should have no partial effect.')\n",
    "for key, value in w_dict.items():\n",
    "    x_w = np.hstack([x, value])\n",
    "    x_w_label = x_label + [key]\n",
    "\n",
    "    # Assuming lm.perm() performs the within transformation\n",
    "    y_dot = lm.perm(Q_T, y)\n",
    "    x_dot = lm.perm(Q_T, x_w)\n",
    "\n",
    "    # Remove columns with all zeros if needed\n",
    "    x_dot, x_dot_label = lm.remove_zero_columns(x_dot, x_w_label)\n",
    "\n",
    "    # Estimate the fixed effects model\n",
    "    fe_result_temp = lm.estimate(y_dot, x_dot, transform='fe', T=T, robust=False)\n",
    "\n",
    "    # Print results\n",
    "    lm.print_table((y_label, x_dot_label), fe_result_temp, title=\"Fixed Effects\", floatfmt='.4f')"
   ]
  },
  {
   "cell_type": "markdown",
   "metadata": {},
   "source": [
    "Basically, we get that we FE.1. is violated. Lets just state this in the text, and then assume that it holds, going further."
   ]
  }
 ],
 "metadata": {
  "kernelspec": {
   "display_name": "base",
   "language": "python",
   "name": "python3"
  },
  "language_info": {
   "codemirror_mode": {
    "name": "ipython",
    "version": 3
   },
   "file_extension": ".py",
   "mimetype": "text/x-python",
   "name": "python",
   "nbconvert_exporter": "python",
   "pygments_lexer": "ipython3",
   "version": "3.11.7"
  },
  "vscode": {
   "interpreter": {
    "hash": "ef42839c56fd8bee084dafb278faf4416bb17c87278e59e0e4bb5f7c8f27c505"
   }
  }
 },
 "nbformat": 4,
 "nbformat_minor": 4
}

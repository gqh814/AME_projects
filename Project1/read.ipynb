{
 "cells": [
  {
   "cell_type": "markdown",
   "metadata": {},
   "source": [
    "# Production Technology\n",
    "\n",
    "The dataset contains `N = 441` firms observed over `T = 12` years, 1968-1979. There variables are: \n",
    "* `lcap`: Log of capital stock, $k_{it}$ \n",
    "* `lemp`: log of employment, $\\ell_{it}$ \n",
    "* `ldsa`: log of deflated sales, $y_{it}$\n",
    "* `year`: the calendar year of the observation, `year` $ = 1968, ..., 1979$, \n",
    "* `firmid`: anonymized indicator variable for the firm, $i = 1, ..., N$, with $N=441$. "
   ]
  },
  {
   "cell_type": "code",
   "execution_count": 14,
   "metadata": {},
   "outputs": [
    {
     "name": "stdout",
     "output_type": "stream",
     "text": [
      "The autoreload extension is already loaded. To reload it, use:\n",
      "  %reload_ext autoreload\n"
     ]
    }
   ],
   "source": [
    "%load_ext autoreload\n",
    "%autoreload 2\n",
    "import pandas as pd \n",
    "import numpy as np\n",
    "import seaborn as sns\n",
    "\n",
    "import linear_panel_class as lm \n",
    "# content in lm is approximately the same as in the exercises\n",
    "# only major change is that 'robust' is added as argument in estimate()\n",
    "# to compute robust standard errors."
   ]
  },
  {
   "cell_type": "markdown",
   "metadata": {},
   "source": [
    "# Converting data to numpy format "
   ]
  },
  {
   "cell_type": "code",
   "execution_count": 15,
   "metadata": {},
   "outputs": [
    {
     "data": {
      "text/plain": [
       "array([1969, 1971, 1973, 1975, 1977, 1979])"
      ]
     },
     "execution_count": 15,
     "metadata": {},
     "output_type": "execute_result"
    }
   ],
   "source": [
    "# load data and extract odd years \n",
    "dat = pd.read_csv('firms.csv')\n",
    "df = dat[dat['year'] % 2 != 0]\n",
    "df.year.unique()\n"
   ]
  },
  {
   "cell_type": "code",
   "execution_count": 16,
   "metadata": {},
   "outputs": [
    {
     "name": "stdout",
     "output_type": "stream",
     "text": [
      "Data has N=441 and T=6\n"
     ]
    }
   ],
   "source": [
    "# define N & T in data \n",
    "N = df.firmid.unique().size\n",
    "T = df.year.unique().size\n",
    "assert df.shape[0] == N*T, f'Error: data is not a balanced panel'\n",
    "print(f'Data has N={N} and T={T}')"
   ]
  },
  {
   "cell_type": "markdown",
   "metadata": {},
   "source": [
    "Extract data from `pandas` to `numpy` arrays. "
   ]
  },
  {
   "cell_type": "code",
   "execution_count": 17,
   "metadata": {},
   "outputs": [],
   "source": [
    "y = df.ldsa.values.reshape((N*T,1))\n",
    "y_label = ['ldsa']\n",
    "\n",
    "ones = np.ones((N*T,1))\n",
    "l = df.lemp.values.reshape((N*T,1))\n",
    "k = df.lcap.values.reshape((N*T,1))\n",
    "x = np.hstack([ones, l, k])\n",
    "x_label = ['intercept', 'lemp', 'lcap']"
   ]
  },
  {
   "cell_type": "markdown",
   "metadata": {},
   "source": [
    "# Estimate FE and FD"
   ]
  },
  {
   "cell_type": "code",
   "execution_count": 18,
   "metadata": {},
   "outputs": [
    {
     "name": "stdout",
     "output_type": "stream",
     "text": [
      "---------------------------------------------\n",
      "Fixed Effects\n",
      "Dependent variable: ['ldsa']\n",
      "\n",
      "        Beta      Se    t-values    p-values\n",
      "----  ------  ------  ----------  ----------\n",
      "lemp  0.7069  0.0282     25.0420      0.0000\n",
      "lcap  0.1424  0.0224      6.3621      0.0000\n",
      "R² = 0.468\n",
      "σ² = 0.019\n",
      "Robust standard errors: True\n"
     ]
    }
   ],
   "source": [
    "### print FE estimation\n",
    "# create a demeaning matrix\n",
    "Q_T = lm.demeaning_matrix(T)\n",
    "# transform the data\n",
    "y_dot = lm.perm(Q_T, y)\n",
    "x_dot = lm.perm(Q_T, x)\n",
    "\n",
    "# remove columns with only zeros\n",
    "x_dot, x_dot_label = lm.remove_zero_columns(x_dot, x_label)\n",
    "\n",
    "# estimate \n",
    "fe_result = lm.estimate(y_dot, x_dot, transform='fe', T=T, robust=True)\n",
    "\n",
    "# print \n",
    "lm.print_table((y_label, x_dot_label), fe_result, title=\"Fixed Effects\", floatfmt='.4f')"
   ]
  },
  {
   "cell_type": "code",
   "execution_count": 19,
   "metadata": {},
   "outputs": [
    {
     "name": "stdout",
     "output_type": "stream",
     "text": [
      "---------------------------------------------\n",
      "First Difference\n",
      "Dependent variable: ['ldsa']\n",
      "\n",
      "        Beta      Se    t-values    p-values\n",
      "----  ------  ------  ----------  ----------\n",
      "lemp  0.7253  0.0338     21.4418      0.0000\n",
      "lcap  0.0547  0.0268      2.0403      0.0413\n",
      "R² = 0.313\n",
      "σ² = 0.022\n",
      "Robust standard errors: True\n"
     ]
    }
   ],
   "source": [
    "### print FD estimation\n",
    "# Create transformation matrix\n",
    "D_T = lm.fd_matrix(T) # (T-1)xT matrix\n",
    "\n",
    "# transform the data\n",
    "y_diff = lm.perm(D_T,y)\n",
    "x_diff = lm.perm(D_T,x)\n",
    "\n",
    "# remove columns with only zeros\n",
    "x_diff, x_diff_label = lm.remove_zero_columns(x_diff, x_label)\n",
    "\n",
    "# estimate \n",
    "fd_result = lm.estimate(y_diff, x_diff, transform = 'fd', robust=True)\n",
    "\n",
    "# print\n",
    "lm.print_table((y_label, x_diff_label), fd_result, title=\"First Difference\", floatfmt='.4f')"
   ]
  },
  {
   "cell_type": "markdown",
   "metadata": {},
   "source": [
    "# Check for autocorrelation in FE- and FD-residuals \n",
    "If serial correlation is present, then the coefficient would be equal to $\\frac{-1}{(T-1)}$ under the null hypothesis (Wooldridge, p. 310-311)."
   ]
  },
  {
   "cell_type": "code",
   "execution_count": 20,
   "metadata": {},
   "outputs": [
    {
     "name": "stdout",
     "output_type": "stream",
     "text": [
      "---------------------------------------------\n",
      "Serial Correlation in FE\n",
      "Dependent variable: ['$\\\\hat{u}$', '$\\\\hat{u}_{t-1}$']\n",
      "\n",
      "      Beta      Se    t-values    p-values\n",
      "--  ------  ------  ----------  ----------\n",
      "    0.2117  0.0318      6.6623      0.0000\n",
      "R² = 0.044\n",
      "σ² = 0.014\n",
      "Robust standard errors: True\n"
     ]
    }
   ],
   "source": [
    "### check for autocorrelation in FE-residuals (Woolridge p. 275)\n",
    "FE_u_hat = fe_result.get('u_hat') \n",
    "# serial correlation regression\n",
    "corr_result = lm.serial_corr(FE_u_hat, T, robust=True)\n",
    "# print - H0: the time-demeaned errors are serially CORRELATED\n",
    "lm.print_table(([r'$\\hat{u}$', r'$\\hat{u}_{t-1}$'], ['']), corr_result, title=\"Serial Correlation in FE\", floatfmt='.4f')"
   ]
  },
  {
   "cell_type": "code",
   "execution_count": 21,
   "metadata": {},
   "outputs": [
    {
     "name": "stdout",
     "output_type": "stream",
     "text": [
      "---------------------------------------------\n",
      "Serial Correlation in FD\n",
      "Dependent variable: ['$\\\\hat{u}$', '$\\\\hat{u}_{t-1}$']\n",
      "\n",
      "       Beta      Se    t-values    p-values\n",
      "--  -------  ------  ----------  ----------\n",
      "    -0.2208  0.0309     -7.1452      0.0000\n",
      "R² = 0.047\n",
      "σ² = 0.022\n",
      "Robust standard errors: True\n"
     ]
    }
   ],
   "source": [
    "### check for autocorrelation in FE-residuals (Woolridge p. 275)\n",
    "fd_u_hat = fd_result.get('u_hat')\n",
    "# serial correlation regression\n",
    "corr_result = lm.serial_corr(fd_u_hat , T, robust=True)\n",
    "# print - H0: the time-demeaned errors are serially CORRELATED\n",
    "lm.print_table(([r'$\\hat{u}$', r'$\\hat{u}_{t-1}$'], ['']), corr_result, title=\"Serial Correlation in FD\", floatfmt='.4f')\n",
    "\n",
    "# NULL: the error term should be serially uncorrelated\n",
    "# finding of significant serial correlation in the error warrants computing the robust variance matrix for the FD estimator \n",
    "# -> we reject the null, which suggest that the error term is serially CORRELATED. Thus, we should use HETEROSKEDASTIC ERRORS\n"
   ]
  },
  {
   "cell_type": "markdown",
   "metadata": {},
   "source": [
    "# Exogenity test for FE\n",
    "I'm unsure whether we should make any transformation or not. The test should be the leaded coefficient is different from zero."
   ]
  },
  {
   "cell_type": "code",
   "execution_count": 22,
   "metadata": {},
   "outputs": [
    {
     "name": "stdout",
     "output_type": "stream",
     "text": [
      "---------------------------------------------\n",
      "Exogeneity test\n",
      "Dependent variable: ['ldsa']\n",
      "\n",
      "              Beta      Se    t-values    p-values\n",
      "---------  -------  ------  ----------  ----------\n",
      "lemp        1.3479  0.2506      5.3782      0.0000\n",
      "lcap       -0.0279  0.1890     -0.1477      0.8826\n",
      "lemp_lead  -0.4595  0.2203     -2.0855      0.0370\n",
      "R² = 0.017\n",
      "σ² = 1.869\n",
      "Robust standard errors: True\n",
      "---------------------------------------------\n",
      "Exogeneity test\n",
      "Dependent variable: ['ldsa']\n",
      "\n",
      "              Beta      Se    t-values    p-values\n",
      "---------  -------  ------  ----------  ----------\n",
      "lemp        1.2637  0.2307      5.4786      0.0000\n",
      "lcap        0.1445  0.2044      0.7069      0.4797\n",
      "lcap_lead  -0.4754  0.2161     -2.2003      0.0278\n",
      "R² = 0.017\n",
      "σ² = 1.868\n",
      "Robust standard errors: True\n"
     ]
    }
   ],
   "source": [
    "# Step 7: Estimate FE adding different leads of x to the regrossers\n",
    "fe_x_label = x_label[1:]\n",
    "for i, var in enumerate(fe_x_label):\n",
    "    test_ = lm.strict_exogeneity_test(y, x_dot, i, N=N, T=T,with_in_transformation=False, robust=True)\n",
    "    x_test_labels = fe_x_label + [f'{var}_lead']\n",
    "    lm.print_table((y_label,x_test_labels), test_, title='Exogeneity test', floatfmt='.4f')\n",
    "    "
   ]
  },
  {
   "cell_type": "markdown",
   "metadata": {},
   "source": [
    "Basically, we get that we FE.1. is violated. Lets just state this in the text, and then assume that it holds, going further."
   ]
  },
  {
   "cell_type": "markdown",
   "metadata": {},
   "source": [
    "## Hypothesis testing\n",
    "\n",
    "Testing the null hypothesis that sum of the coefficients are equal to 1. \n",
    "$$\n",
    "H_0 : \\:\\:\\: \\: R\\beta = r\n",
    "$$\n",
    "where $R = [1, 1]$ and $r = 1$ which corresponds to $\\beta_K+\\beta_L = 1$\n",
    "\n",
    "Wald statistic is given by:\n",
    "$$\n",
    "\\begin{align*}\n",
    "W = (R\\hat{\\beta} - r)'\\left[R\\hat{Avar(\\beta)} R'\\right]^{-1}(R\\hat{\\beta} - r)\n",
    "\\end{align*}\n",
    "$$\n",
    "Under $H_0$, $W \\sim \\chi^2_Q$ where $Q$ is equal to 1 in this case."
   ]
  },
  {
   "cell_type": "code",
   "execution_count": 23,
   "metadata": {},
   "outputs": [
    {
     "name": "stdout",
     "output_type": "stream",
     "text": [
      "On a 5% significance level, we reject the null hypothesis.\n"
     ]
    },
    {
     "data": {
      "text/plain": [
       "9.871962136642765e-10"
      ]
     },
     "execution_count": 23,
     "metadata": {},
     "output_type": "execute_result"
    }
   ],
   "source": [
    "# Define the parameters for the hypothesis test\n",
    "b_hat = fe_result.get('b_hat')\n",
    "cov_mat = fe_result.get('cov')\n",
    "\n",
    "R = np.array(([1,1])).reshape(1,-1)\n",
    "r = np.array([1]).reshape(1,-1)\n",
    "\n",
    "# Perform the Wald test\n",
    "wald_stat, p_value = lm.wald_test(b_hat=b_hat, cov_mat=cov_mat, \n",
    "                                  R=R, r=r, # H0: Rb = r\n",
    "                                  verbose=1 # if False, it will not print the results\n",
    "                                  )\n",
    "p_value"
   ]
  }
 ],
 "metadata": {
  "kernelspec": {
   "display_name": "base",
   "language": "python",
   "name": "python3"
  },
  "language_info": {
   "codemirror_mode": {
    "name": "ipython",
    "version": 3
   },
   "file_extension": ".py",
   "mimetype": "text/x-python",
   "name": "python",
   "nbconvert_exporter": "python",
   "pygments_lexer": "ipython3",
   "version": "3.8.16"
  },
  "vscode": {
   "interpreter": {
    "hash": "ef42839c56fd8bee084dafb278faf4416bb17c87278e59e0e4bb5f7c8f27c505"
   }
  }
 },
 "nbformat": 4,
 "nbformat_minor": 4
}

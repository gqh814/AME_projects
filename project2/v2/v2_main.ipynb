{
 "cells": [
  {
   "cell_type": "markdown",
   "metadata": {},
   "source": [
    "# Project II: Economic Growth \n",
    "\n",
    "This notebook will help you getting started with analyzing the growth dataset, `growth.csv`."
   ]
  },
  {
   "cell_type": "code",
   "execution_count": 71,
   "metadata": {},
   "outputs": [
    {
     "name": "stdout",
     "output_type": "stream",
     "text": [
      "The autoreload extension is already loaded. To reload it, use:\n",
      "  %reload_ext autoreload\n"
     ]
    }
   ],
   "source": [
    "import pandas as pd \n",
    "import numpy as np \n",
    "import statsmodels.formula.api as smf\n",
    "import matplotlib.pyplot as plt\n",
    "\n",
    "%load_ext autoreload\n",
    "%autoreload 2\n",
    "import v2_tools as lm \n",
    "from sklearn.linear_model import Lasso"
   ]
  },
  {
   "cell_type": "markdown",
   "metadata": {},
   "source": [
    "## Read data "
   ]
  },
  {
   "cell_type": "code",
   "execution_count": 41,
   "metadata": {},
   "outputs": [
    {
     "name": "stdout",
     "output_type": "stream",
     "text": [
      "The data contains 214 rows (countries) and 85 columns (variables).\n"
     ]
    }
   ],
   "source": [
    "dat = pd.read_csv('../data/growth.csv')\n",
    "lbldf = pd.read_csv('../data/labels.csv', index_col='variable')\n",
    "lbl_all = lbldf.label.to_dict() # as a dictionary\n",
    "print(f'The data contains {dat.shape[0]} rows (countries) and {dat.shape[1]} columns (variables).')"
   ]
  },
  {
   "cell_type": "markdown",
   "metadata": {},
   "source": [
    "# Collections of variables\n",
    "\n",
    "In order to make the analysis simpler, it may be convenient to collect variables in sets that belong together naturally. "
   ]
  },
  {
   "cell_type": "code",
   "execution_count": 42,
   "metadata": {},
   "outputs": [],
   "source": [
    "# all available variables\n",
    "vv_institutions = ['marketref', 'dem', 'demCGV', 'demBMR', 'demreg'] \n",
    "vv_geography = [\n",
    "        'tropicar','distr', 'distcr', 'distc','suitavg','temp', 'suitgini', 'elevavg', 'elevstd',\n",
    "        'kgatr', 'precip', 'area', 'abslat', 'cenlong', 'area_ar', 'rough','landlock', \n",
    "        'africa',  'asia', 'oceania', 'americas' # 'europe' is the reference\n",
    "]\n",
    "vv_geneticdiversity = ['pdiv', 'pdiv_aa', 'pdivhmi', 'pdivhmi_aa']\n",
    "vv_historical = ['pd1000', 'pd1500', 'pop1000', 'pop1500', 'ln_yst'] # these are often missing: ['pd1', 'pop1']\n",
    "vv_religion = ['pprotest', 'pcatholic', 'pmuslim']\n",
    "vv_danger = ['yellow', 'malfal',  'uvdamage']\n",
    "vv_resources = ['oilres', 'goldm', 'iron', 'silv', 'zinc']\n",
    "vv_educ = ['ls_bl', 'lh_bl'] # secondary, tertiary: we exclude 'lp_bl' (primary) to avoid rank failure \n",
    "\n",
    "vv_all = {'institutions': vv_institutions, \n",
    "          'geography': vv_geography, \n",
    "          'geneticdiversity': vv_geneticdiversity,\n",
    "          'historical': vv_historical,\n",
    "          'religion': vv_religion,\n",
    "          'danger':vv_danger, \n",
    "          'resources':vv_resources\n",
    "         }\n",
    "list_of_lists = vv_all.values()\n",
    "vv_all['all'] = [v for sublist in list_of_lists for v in sublist]\n"
   ]
  },
  {
   "cell_type": "code",
   "execution_count": 43,
   "metadata": {},
   "outputs": [],
   "source": [
    "# convenient to keep a column of ones in the dataset\n",
    "dat['constant'] = np.ones((dat.shape[0],))"
   ]
  },
  {
   "cell_type": "markdown",
   "metadata": {},
   "source": [
    "## Selection of variables"
   ]
  },
  {
   "cell_type": "code",
   "execution_count": 44,
   "metadata": {},
   "outputs": [
    {
     "data": {
      "text/html": [
       "<div>\n",
       "<style scoped>\n",
       "    .dataframe tbody tr th:only-of-type {\n",
       "        vertical-align: middle;\n",
       "    }\n",
       "\n",
       "    .dataframe tbody tr th {\n",
       "        vertical-align: top;\n",
       "    }\n",
       "\n",
       "    .dataframe thead th {\n",
       "        text-align: right;\n",
       "    }\n",
       "</style>\n",
       "<table border=\"1\" class=\"dataframe\">\n",
       "  <thead>\n",
       "    <tr style=\"text-align: right;\">\n",
       "      <th></th>\n",
       "      <th>code</th>\n",
       "      <th>marketref</th>\n",
       "      <th>dem</th>\n",
       "      <th>demCGV</th>\n",
       "      <th>demBMR</th>\n",
       "      <th>demreg</th>\n",
       "      <th>lp_bl</th>\n",
       "      <th>ls_bl</th>\n",
       "      <th>lh_bl</th>\n",
       "      <th>tropicar</th>\n",
       "      <th>...</th>\n",
       "      <th>capital_growth_pct_gdp_initial</th>\n",
       "      <th>capital_growth_pct_gdp_now</th>\n",
       "      <th>gdp_initial</th>\n",
       "      <th>gdp_now</th>\n",
       "      <th>investment_rate</th>\n",
       "      <th>gdp_growth</th>\n",
       "      <th>pop_growth</th>\n",
       "      <th>lgdp_initial</th>\n",
       "      <th>lpop_initial</th>\n",
       "      <th>constant</th>\n",
       "    </tr>\n",
       "  </thead>\n",
       "  <tbody>\n",
       "    <tr>\n",
       "      <th>4</th>\n",
       "      <td>ARG</td>\n",
       "      <td>34.144062</td>\n",
       "      <td>0.0</td>\n",
       "      <td>0.0</td>\n",
       "      <td>0.0</td>\n",
       "      <td>0.071429</td>\n",
       "      <td>72.400000</td>\n",
       "      <td>15.300000</td>\n",
       "      <td>4.000000</td>\n",
       "      <td>0.027089</td>\n",
       "      <td>...</td>\n",
       "      <td>24.440095</td>\n",
       "      <td>13.776598</td>\n",
       "      <td>1.691742e+11</td>\n",
       "      <td>3.944470e+11</td>\n",
       "      <td>19.976606</td>\n",
       "      <td>0.004101</td>\n",
       "      <td>0.012921</td>\n",
       "      <td>8.865619</td>\n",
       "      <td>16.988575</td>\n",
       "      <td>1.0</td>\n",
       "    </tr>\n",
       "    <tr>\n",
       "      <th>7</th>\n",
       "      <td>AUS</td>\n",
       "      <td>29.444778</td>\n",
       "      <td>1.0</td>\n",
       "      <td>1.0</td>\n",
       "      <td>1.0</td>\n",
       "      <td>0.954545</td>\n",
       "      <td>29.300000</td>\n",
       "      <td>48.300000</td>\n",
       "      <td>21.500000</td>\n",
       "      <td>0.381887</td>\n",
       "      <td>...</td>\n",
       "      <td>33.022170</td>\n",
       "      <td>22.255543</td>\n",
       "      <td>3.266906e+11</td>\n",
       "      <td>1.446367e+12</td>\n",
       "      <td>27.672347</td>\n",
       "      <td>0.015481</td>\n",
       "      <td>0.014498</td>\n",
       "      <td>10.170480</td>\n",
       "      <td>16.341799</td>\n",
       "      <td>1.0</td>\n",
       "    </tr>\n",
       "    <tr>\n",
       "      <th>8</th>\n",
       "      <td>AUT</td>\n",
       "      <td>38.210518</td>\n",
       "      <td>1.0</td>\n",
       "      <td>1.0</td>\n",
       "      <td>1.0</td>\n",
       "      <td>0.954545</td>\n",
       "      <td>57.263283</td>\n",
       "      <td>35.800000</td>\n",
       "      <td>2.600000</td>\n",
       "      <td>0.000000</td>\n",
       "      <td>...</td>\n",
       "      <td>31.038141</td>\n",
       "      <td>25.193306</td>\n",
       "      <td>1.461597e+11</td>\n",
       "      <td>4.191863e+11</td>\n",
       "      <td>25.954993</td>\n",
       "      <td>0.017677</td>\n",
       "      <td>0.003556</td>\n",
       "      <td>9.881951</td>\n",
       "      <td>15.826015</td>\n",
       "      <td>1.0</td>\n",
       "    </tr>\n",
       "    <tr>\n",
       "      <th>10</th>\n",
       "      <td>BDI</td>\n",
       "      <td>NaN</td>\n",
       "      <td>0.0</td>\n",
       "      <td>0.0</td>\n",
       "      <td>0.0</td>\n",
       "      <td>0.032258</td>\n",
       "      <td>11.365340</td>\n",
       "      <td>0.912563</td>\n",
       "      <td>0.141201</td>\n",
       "      <td>1.000000</td>\n",
       "      <td>...</td>\n",
       "      <td>4.530795</td>\n",
       "      <td>11.377847</td>\n",
       "      <td>9.172368e+08</td>\n",
       "      <td>2.406362e+09</td>\n",
       "      <td>10.887358</td>\n",
       "      <td>-0.005276</td>\n",
       "      <td>0.024885</td>\n",
       "      <td>5.574601</td>\n",
       "      <td>15.062276</td>\n",
       "      <td>1.0</td>\n",
       "    </tr>\n",
       "    <tr>\n",
       "      <th>11</th>\n",
       "      <td>BEL</td>\n",
       "      <td>53.843560</td>\n",
       "      <td>1.0</td>\n",
       "      <td>1.0</td>\n",
       "      <td>1.0</td>\n",
       "      <td>0.954545</td>\n",
       "      <td>65.299510</td>\n",
       "      <td>28.700000</td>\n",
       "      <td>5.200000</td>\n",
       "      <td>0.000000</td>\n",
       "      <td>...</td>\n",
       "      <td>29.656689</td>\n",
       "      <td>24.764056</td>\n",
       "      <td>1.912545e+11</td>\n",
       "      <td>5.126385e+11</td>\n",
       "      <td>23.671420</td>\n",
       "      <td>0.016257</td>\n",
       "      <td>0.003600</td>\n",
       "      <td>9.893827</td>\n",
       "      <td>16.083043</td>\n",
       "      <td>1.0</td>\n",
       "    </tr>\n",
       "    <tr>\n",
       "      <th>...</th>\n",
       "      <td>...</td>\n",
       "      <td>...</td>\n",
       "      <td>...</td>\n",
       "      <td>...</td>\n",
       "      <td>...</td>\n",
       "      <td>...</td>\n",
       "      <td>...</td>\n",
       "      <td>...</td>\n",
       "      <td>...</td>\n",
       "      <td>...</td>\n",
       "      <td>...</td>\n",
       "      <td>...</td>\n",
       "      <td>...</td>\n",
       "      <td>...</td>\n",
       "      <td>...</td>\n",
       "      <td>...</td>\n",
       "      <td>...</td>\n",
       "      <td>...</td>\n",
       "      <td>...</td>\n",
       "      <td>...</td>\n",
       "      <td>...</td>\n",
       "    </tr>\n",
       "    <tr>\n",
       "      <th>178</th>\n",
       "      <td>VCT</td>\n",
       "      <td>54.545450</td>\n",
       "      <td>0.0</td>\n",
       "      <td>0.0</td>\n",
       "      <td>0.0</td>\n",
       "      <td>0.888889</td>\n",
       "      <td>NaN</td>\n",
       "      <td>NaN</td>\n",
       "      <td>NaN</td>\n",
       "      <td>NaN</td>\n",
       "      <td>...</td>\n",
       "      <td>NaN</td>\n",
       "      <td>NaN</td>\n",
       "      <td>1.654725e+08</td>\n",
       "      <td>7.382574e+08</td>\n",
       "      <td>NaN</td>\n",
       "      <td>0.026173</td>\n",
       "      <td>0.004082</td>\n",
       "      <td>7.511199</td>\n",
       "      <td>11.413116</td>\n",
       "      <td>1.0</td>\n",
       "    </tr>\n",
       "    <tr>\n",
       "      <th>185</th>\n",
       "      <td>ZAF</td>\n",
       "      <td>1.785714</td>\n",
       "      <td>0.0</td>\n",
       "      <td>0.0</td>\n",
       "      <td>0.0</td>\n",
       "      <td>0.032258</td>\n",
       "      <td>26.700000</td>\n",
       "      <td>27.400002</td>\n",
       "      <td>3.700000</td>\n",
       "      <td>0.037754</td>\n",
       "      <td>...</td>\n",
       "      <td>28.557312</td>\n",
       "      <td>12.426404</td>\n",
       "      <td>1.378055e+11</td>\n",
       "      <td>4.002289e+11</td>\n",
       "      <td>22.211417</td>\n",
       "      <td>0.001554</td>\n",
       "      <td>0.019968</td>\n",
       "      <td>8.739389</td>\n",
       "      <td>16.909720</td>\n",
       "      <td>1.0</td>\n",
       "    </tr>\n",
       "    <tr>\n",
       "      <th>187</th>\n",
       "      <td>ZMB</td>\n",
       "      <td>22.524733</td>\n",
       "      <td>0.0</td>\n",
       "      <td>0.0</td>\n",
       "      <td>0.0</td>\n",
       "      <td>0.032258</td>\n",
       "      <td>54.600000</td>\n",
       "      <td>1.900000</td>\n",
       "      <td>0.600000</td>\n",
       "      <td>1.000000</td>\n",
       "      <td>...</td>\n",
       "      <td>NaN</td>\n",
       "      <td>NaN</td>\n",
       "      <td>6.606381e+09</td>\n",
       "      <td>2.864814e+10</td>\n",
       "      <td>36.330155</td>\n",
       "      <td>-0.000287</td>\n",
       "      <td>0.030071</td>\n",
       "      <td>7.365705</td>\n",
       "      <td>15.245597</td>\n",
       "      <td>1.0</td>\n",
       "    </tr>\n",
       "    <tr>\n",
       "      <th>188</th>\n",
       "      <td>ZWE</td>\n",
       "      <td>0.000000</td>\n",
       "      <td>0.0</td>\n",
       "      <td>0.0</td>\n",
       "      <td>0.0</td>\n",
       "      <td>0.032258</td>\n",
       "      <td>51.920998</td>\n",
       "      <td>5.440012</td>\n",
       "      <td>2.309395</td>\n",
       "      <td>1.000000</td>\n",
       "      <td>...</td>\n",
       "      <td>18.337780</td>\n",
       "      <td>NaN</td>\n",
       "      <td>6.903321e+09</td>\n",
       "      <td>1.573755e+10</td>\n",
       "      <td>15.059719</td>\n",
       "      <td>-0.004174</td>\n",
       "      <td>0.020879</td>\n",
       "      <td>7.174070</td>\n",
       "      <td>15.481199</td>\n",
       "      <td>1.0</td>\n",
       "    </tr>\n",
       "    <tr>\n",
       "      <th>208</th>\n",
       "      <td>PRI</td>\n",
       "      <td>NaN</td>\n",
       "      <td>0.0</td>\n",
       "      <td>0.0</td>\n",
       "      <td>0.0</td>\n",
       "      <td>NaN</td>\n",
       "      <td>NaN</td>\n",
       "      <td>NaN</td>\n",
       "      <td>NaN</td>\n",
       "      <td>NaN</td>\n",
       "      <td>...</td>\n",
       "      <td>28.641230</td>\n",
       "      <td>11.511049</td>\n",
       "      <td>2.884177e+10</td>\n",
       "      <td>8.567180e+10</td>\n",
       "      <td>17.162389</td>\n",
       "      <td>0.018719</td>\n",
       "      <td>0.003233</td>\n",
       "      <td>9.269684</td>\n",
       "      <td>14.815407</td>\n",
       "      <td>1.0</td>\n",
       "    </tr>\n",
       "  </tbody>\n",
       "</table>\n",
       "<p>102 rows × 86 columns</p>\n",
       "</div>"
      ],
      "text/plain": [
       "    code  marketref  dem  demCGV  demBMR    demreg      lp_bl      ls_bl  \\\n",
       "4    ARG  34.144062  0.0     0.0     0.0  0.071429  72.400000  15.300000   \n",
       "7    AUS  29.444778  1.0     1.0     1.0  0.954545  29.300000  48.300000   \n",
       "8    AUT  38.210518  1.0     1.0     1.0  0.954545  57.263283  35.800000   \n",
       "10   BDI        NaN  0.0     0.0     0.0  0.032258  11.365340   0.912563   \n",
       "11   BEL  53.843560  1.0     1.0     1.0  0.954545  65.299510  28.700000   \n",
       "..   ...        ...  ...     ...     ...       ...        ...        ...   \n",
       "178  VCT  54.545450  0.0     0.0     0.0  0.888889        NaN        NaN   \n",
       "185  ZAF   1.785714  0.0     0.0     0.0  0.032258  26.700000  27.400002   \n",
       "187  ZMB  22.524733  0.0     0.0     0.0  0.032258  54.600000   1.900000   \n",
       "188  ZWE   0.000000  0.0     0.0     0.0  0.032258  51.920998   5.440012   \n",
       "208  PRI        NaN  0.0     0.0     0.0       NaN        NaN        NaN   \n",
       "\n",
       "         lh_bl  tropicar  ...  capital_growth_pct_gdp_initial  \\\n",
       "4     4.000000  0.027089  ...                       24.440095   \n",
       "7    21.500000  0.381887  ...                       33.022170   \n",
       "8     2.600000  0.000000  ...                       31.038141   \n",
       "10    0.141201  1.000000  ...                        4.530795   \n",
       "11    5.200000  0.000000  ...                       29.656689   \n",
       "..         ...       ...  ...                             ...   \n",
       "178        NaN       NaN  ...                             NaN   \n",
       "185   3.700000  0.037754  ...                       28.557312   \n",
       "187   0.600000  1.000000  ...                             NaN   \n",
       "188   2.309395  1.000000  ...                       18.337780   \n",
       "208        NaN       NaN  ...                       28.641230   \n",
       "\n",
       "     capital_growth_pct_gdp_now   gdp_initial       gdp_now  investment_rate  \\\n",
       "4                     13.776598  1.691742e+11  3.944470e+11        19.976606   \n",
       "7                     22.255543  3.266906e+11  1.446367e+12        27.672347   \n",
       "8                     25.193306  1.461597e+11  4.191863e+11        25.954993   \n",
       "10                    11.377847  9.172368e+08  2.406362e+09        10.887358   \n",
       "11                    24.764056  1.912545e+11  5.126385e+11        23.671420   \n",
       "..                          ...           ...           ...              ...   \n",
       "178                         NaN  1.654725e+08  7.382574e+08              NaN   \n",
       "185                   12.426404  1.378055e+11  4.002289e+11        22.211417   \n",
       "187                         NaN  6.606381e+09  2.864814e+10        36.330155   \n",
       "188                         NaN  6.903321e+09  1.573755e+10        15.059719   \n",
       "208                   11.511049  2.884177e+10  8.567180e+10        17.162389   \n",
       "\n",
       "     gdp_growth  pop_growth  lgdp_initial  lpop_initial  constant  \n",
       "4      0.004101    0.012921      8.865619     16.988575       1.0  \n",
       "7      0.015481    0.014498     10.170480     16.341799       1.0  \n",
       "8      0.017677    0.003556      9.881951     15.826015       1.0  \n",
       "10    -0.005276    0.024885      5.574601     15.062276       1.0  \n",
       "11     0.016257    0.003600      9.893827     16.083043       1.0  \n",
       "..          ...         ...           ...           ...       ...  \n",
       "178    0.026173    0.004082      7.511199     11.413116       1.0  \n",
       "185    0.001554    0.019968      8.739389     16.909720       1.0  \n",
       "187   -0.000287    0.030071      7.365705     15.245597       1.0  \n",
       "188   -0.004174    0.020879      7.174070     15.481199       1.0  \n",
       "208    0.018719    0.003233      9.269684     14.815407       1.0  \n",
       "\n",
       "[102 rows x 86 columns]"
      ]
     },
     "execution_count": 44,
     "metadata": {},
     "output_type": "execute_result"
    }
   ],
   "source": [
    "# remove rows with missing values of lgdp_initial and gdp_growth\n",
    "df = dat.loc[(dat['lgdp_initial'].notna())&(dat['gdp_growth'].notna())]\n",
    "\n",
    "# if no democracy data, set to 0\n",
    "df.loc[df[['dem','demCGV','demBMR']].isna().any(axis=1), ['dem','demCGV','demBMR']] = 0\n",
    "\n",
    "df"
   ]
  },
  {
   "cell_type": "code",
   "execution_count": 45,
   "metadata": {},
   "outputs": [
    {
     "name": "stdout",
     "output_type": "stream",
     "text": [
      "There are 27 variables that have 102 observations.\n"
     ]
    }
   ],
   "source": [
    "# get the maximum number of data\n",
    "max_of_obs = df.shape[0]\n",
    "\n",
    "var_has_no_obs = {}\n",
    "for var in [col for col in df.columns if col not in ['code','lgdp_initial','gdp_growth']]:\n",
    "    no_of_obs = df[var].notna().sum()\n",
    "    var_has_no_obs[var] = no_of_obs\n",
    "\n",
    "# sort the dictionary by the number of observations\n",
    "sorted_var_has_no_obs = dict(sorted(var_has_no_obs.items(), key=lambda item: item[1], reverse=True))\n",
    "\n",
    "# count how many variables have max_of_obs observations\n",
    "count = 0\n",
    "for key, value in sorted_var_has_no_obs.items():\n",
    "    if value == max_of_obs:\n",
    "        count += 1\n",
    "\n",
    "print(f'There are {count} variables that have {max_of_obs} observations.')"
   ]
  },
  {
   "cell_type": "code",
   "execution_count": 49,
   "metadata": {},
   "outputs": [],
   "source": [
    "keep_cols = [key for key, value in sorted_var_has_no_obs.items() if value ==max_of_obs]\n",
    "all_cols = ['lgdp_initial','gdp_growth'] + keep_cols\n",
    "df_master = df[all_cols]"
   ]
  },
  {
   "cell_type": "markdown",
   "metadata": {},
   "source": [
    "# Double Post Lasso"
   ]
  },
  {
   "cell_type": "code",
   "execution_count": 89,
   "metadata": {},
   "outputs": [],
   "source": [
    "y_labels = ['gdp_growth']\n",
    "d_labels = ['lgdp_initial']\n",
    "Z_labels = [col for col in df_master.columns if col not in y_labels+d_labels+['constant']]\n",
    "\n",
    "# define the data\n",
    "Z = df[Z_labels].values\n",
    "d = df[d_labels].values\n",
    "y = df[y_labels].values\n",
    "\n",
    "\n",
    "# standardize the data\n",
    "Z = (Z - np.mean(Z, axis=0)) / np.std(Z, axis=0, ddof=1)\n",
    "d = (d - np.mean(d, axis=0)) / np.std(d, axis=0, ddof=1)\n",
    "X = np.column_stack((d,Z))\n",
    "# X = (X - np.mean(X, axis=0)) / np.std(X, axis=0)\n",
    "# y = (y - np.mean(y, axis=0)) / np.std(y, axis=0)\n",
    "\n",
    "# Define the number of samples and features\n",
    "n = X.shape[0] # number of samples\n",
    "p = df.shape[1] # number of features"
   ]
  },
  {
   "cell_type": "code",
   "execution_count": 90,
   "metadata": {},
   "outputs": [
    {
     "name": "stdout",
     "output_type": "stream",
     "text": [
      "Calculate BCCH \n",
      " ------------------------------\n",
      "Baby step\n",
      "We get a lambda=0.01082603\n",
      " [-0.  0.  0.  0. -0. -0.  0. -0.  0.  0. -0.  0.  0. -0. -0. -0. -0. -0.\n",
      "  0.  0.  0. -0.  0.  0.  0. -0.  0.] \n",
      " ------\n",
      "Grown up step\n",
      "We get a lambda=0.01593450\n",
      " [-0.  0.  0.  0. -0. -0.  0. -0.  0.  0. -0.  0.  0. -0. -0. -0. -0. -0.\n",
      "  0.  0.  0. -0.  0.  0.  0. -0.  0.]\n"
     ]
    }
   ],
   "source": [
    "# calculate penalty (BCCH)\n",
    "x_chosen = X[:,:]\n",
    "y_chosen = y[:]\n",
    "\n",
    "lasso_ = lm.MyLasso_123(X=x_chosen, y=y_chosen)\n",
    "\n",
    "print('Calculate BCCH \\n','---'*10,)\n",
    "print('Baby step')\n",
    "penalty_term_obj = lm.penalty_term(X=x_chosen, y=y_chosen, alpha=0.05, c=1.1, n=n, p=p)\n",
    "p_lambda = penalty_term_obj.bcch_pilot_rule()\n",
    "beta_pilot = lasso_.lasso(p_lambda).coef_\n",
    "print(f'We get a lambda={p_lambda:.8f}\\n',beta_pilot,'\\n', '---'*2)\n",
    "\n",
    "# d\n",
    "print('Grown up step')\n",
    "residuals = y_chosen - x_chosen @ beta_pilot\n",
    "bcch_lambda = penalty_term_obj.bcch_rule(residuals=residuals)\n",
    "\n",
    "beta_bcch = lasso_.lasso(bcch_lambda).coef_\n",
    "print(f'We get a lambda={bcch_lambda:.8f}\\n', beta_bcch)\n",
    "# print(f'lambda: {bcch_lambda:.6f} \\n bcch betas\\n', beta_bcch)"
   ]
  },
  {
   "cell_type": "markdown",
   "metadata": {},
   "source": [
    "### Question 4.1\n",
    "Estimate $\\alpha$ using Douple Post Lasso (DPL)."
   ]
  },
  {
   "cell_type": "markdown",
   "metadata": {},
   "source": [
    "Step 0: Calculate BRT\n",
    "\n",
    "*Note:* In this exercise we will use the penalty suggested by BRT. BRT relies on homoscedasticity which is a strong assumption."
   ]
  },
  {
   "cell_type": "code",
   "execution_count": 67,
   "metadata": {},
   "outputs": [],
   "source": [
    "# Calculate BRT\n",
    "penalty = bcch_lambda"
   ]
  },
  {
   "cell_type": "markdown",
   "metadata": {},
   "source": [
    "    You should get: lambda_BRT = 3135.12"
   ]
  },
  {
   "cell_type": "markdown",
   "metadata": {},
   "source": [
    "Step 1: Lasso Y using D and Z\n",
    "\n",
    "*Hint:* To calculate the residuals from the LASSO-regression you can use the predict method from the Lasso object. The predict method returns the predicted values from the LASSO regression. You can then calculate the residuals by subtracting the predicted values from the actual values. "
   ]
  },
  {
   "cell_type": "code",
   "execution_count": 110,
   "metadata": {},
   "outputs": [
    {
     "name": "stdout",
     "output_type": "stream",
     "text": [
      "First coefficient = -0.0\n",
      "(102,)\n",
      "(102,)\n",
      "(102,)\n",
      "(102,)\n"
     ]
    }
   ],
   "source": [
    "# Run Lasso \n",
    "fit_BRTyx = Lasso(penalty, max_iter=10000).fit(X, y)\n",
    "coefs=fit_BRTyx.coef_\n",
    "\n",
    "y = y.reshape((n,))\n",
    "d = d.reshape((n,))\n",
    "# Calculate residuals\n",
    "resyx = y-fit_BRTyx.predict(X)\n",
    "\n",
    "# Calculate Y - Z@gamma (epsilon + alpha*d)\n",
    "# Hint: You only need the variables given to you in this cell, in addition\n",
    "# to a standardized data set you made previoously.\n",
    "resyxz = resyx + d*coefs[0]\n",
    "\n",
    "fit_BRTyx_foo = Lasso(penalty, max_iter=10000).fit(Z, y)\n",
    "\n",
    "# Calculate residuals\n",
    "resyxz_foo = y-fit_BRTyx_foo.predict(Z)\n",
    "\n",
    "# Display first coefficient\n",
    "print(\"First coefficient =\",coefs[0])\n",
    "print(resyx.shape)\n",
    "print(resyxz.shape)\n",
    "print(y.shape)\n",
    "print(fit_BRTyx.predict(X).shape)"
   ]
  },
  {
   "cell_type": "code",
   "execution_count": null,
   "metadata": {},
   "outputs": [],
   "source": [
    "# # Setup data\n",
    "# y = housing.median_house_value\n",
    "# d = housing.median_income\n",
    "# Z_basic = housing.drop([\"median_house_value\",\"median_income\",\"ocean_proximity\"],axis=1)\n",
    "\n",
    "# # Add polynomial features\n",
    "# # Hint: remember, you don't want the constant\n",
    "# Z = PolynomialFeatures(3, include_bias=False).fit_transform(Z_basic)\n",
    "\n",
    "# X = np.column_stack((d,Z))\n",
    "# # Create a function for standardizing\n",
    "# def standardize(X):\n",
    "\n",
    "#     X_stan = (X - np.mean(X, axis=0))/np.std(X, axis=0, ddof=1)\n",
    "#     return X_stan\n",
    "\n",
    "# # Standardize data\n",
    "# X_stan = standardize(X)\n",
    "# Z_stan = standardize(Z)\n",
    "# d_stan = standardize(d)"
   ]
  },
  {
   "cell_type": "markdown",
   "metadata": {},
   "source": [
    "    You should get: First coefficient = 74248.24"
   ]
  },
  {
   "cell_type": "markdown",
   "metadata": {},
   "source": [
    "Step 2: Lasso D using Z"
   ]
  },
  {
   "cell_type": "code",
   "execution_count": 111,
   "metadata": {},
   "outputs": [
    {
     "name": "stdout",
     "output_type": "stream",
     "text": [
      "(102,)\n",
      "First coefficient = 0.0\n"
     ]
    }
   ],
   "source": [
    "# Run Lasso\n",
    "fit_BRTdz = Lasso(penalty, max_iter=10000).fit(Z, d)\n",
    "coefs=fit_BRTdz.coef_\n",
    "\n",
    "# Calculate residuals\n",
    "resdz=d-fit_BRTdz.predict(Z)\n",
    "print(resdz.shape)\n",
    "\n",
    "# Display first coefficient\n",
    "print(\"First coefficient =\",coefs[0].round(2))"
   ]
  },
  {
   "cell_type": "markdown",
   "metadata": {},
   "source": [
    "    You should get: First coefficient = -0.55"
   ]
  },
  {
   "cell_type": "markdown",
   "metadata": {},
   "source": [
    "Step 3: Estimate alpha"
   ]
  },
  {
   "cell_type": "code",
   "execution_count": 112,
   "metadata": {},
   "outputs": [
    {
     "name": "stdout",
     "output_type": "stream",
     "text": [
      "alpha_PDL =  -0.0\n"
     ]
    }
   ],
   "source": [
    "# Calculate alpha\n",
    "num = resdz@resyxz\n",
    "denom = resdz@d # WTF? hvorfor \n",
    "alpha_PDL = num/denom\n",
    "\n",
    "# Display alpha\n",
    "print(\"alpha_PDL = \",alpha_PDL.round(2))"
   ]
  },
  {
   "cell_type": "markdown",
   "metadata": {},
   "source": [
    "    You should get: alpha_PDL =  40788.63"
   ]
  },
  {
   "cell_type": "markdown",
   "metadata": {},
   "source": [
    "### Question 4.2\n",
    "Calculate the implied variance estimate, $\\check{\\sigma}^2$, and calculate the standard deviation of $\\check{\\alpha}$."
   ]
  },
  {
   "cell_type": "code",
   "execution_count": 113,
   "metadata": {},
   "outputs": [
    {
     "name": "stdout",
     "output_type": "stream",
     "text": [
      "sigma2_PDL =  0.0\n"
     ]
    }
   ],
   "source": [
    "# Calculate variance    \n",
    "num = resdz**2@resyx**2/n\n",
    "denom = (resdz.T@resdz/n)**2\n",
    "sigma2_PDL = num/denom\n",
    "\n",
    "# Display variance\n",
    "print(\"sigma2_PDL = \",sigma2_PDL.round(2))"
   ]
  },
  {
   "cell_type": "markdown",
   "metadata": {},
   "source": [
    "    You should get: sigma2_PDL =  4557181789.27"
   ]
  },
  {
   "cell_type": "code",
   "execution_count": 115,
   "metadata": {},
   "outputs": [
    {
     "name": "stdout",
     "output_type": "stream",
     "text": [
      "se_PDL =  0.0\n"
     ]
    }
   ],
   "source": [
    "# Calculate standard error\n",
    "se_PDL = np.sqrt(sigma2_PDL/n)\n",
    "\n",
    "# Display standard error\n",
    "print(\"se_PDL = \",se_PDL.round(2))"
   ]
  },
  {
   "cell_type": "markdown",
   "metadata": {},
   "source": [
    "    You should get: se_PDL =  472.26"
   ]
  },
  {
   "cell_type": "markdown",
   "metadata": {},
   "source": [
    "### Question 4.3\n",
    "Calculate the confidence interval for $\\check{\\alpha}$."
   ]
  },
  {
   "cell_type": "code",
   "execution_count": null,
   "metadata": {},
   "outputs": [
    {
     "name": "stdout",
     "output_type": "stream",
     "text": [
      "CI_PDL =  (39863.01, 41714.24)\n"
     ]
    }
   ],
   "source": [
    "# Calculate the quantile of the standard normal distribution that corresponds to the 95% confidence interval of a two-sided test\n",
    "q = norm.ppf(1-0.025)\n",
    "\n",
    "# Calculate confidence interval\n",
    "CI_low_PDL  = alpha_PDL - q * se_PDL\n",
    "CI_high_PDL = alpha_PDL + q * se_PDL\n",
    "\n",
    "# Display confidence interval\n",
    "print(\"CI_PDL = \",(CI_low_PDL.round(2),CI_high_PDL.round(2)))"
   ]
  }
 ],
 "metadata": {
  "kernelspec": {
   "display_name": "base",
   "language": "python",
   "name": "python3"
  },
  "language_info": {
   "codemirror_mode": {
    "name": "ipython",
    "version": 3
   },
   "file_extension": ".py",
   "mimetype": "text/x-python",
   "name": "python",
   "nbconvert_exporter": "python",
   "pygments_lexer": "ipython3",
   "version": "3.11.7"
  },
  "vscode": {
   "interpreter": {
    "hash": "c2ae48c162d131f82ef151729d267408cc9eb575d785b70245b45a17416079a0"
   }
  }
 },
 "nbformat": 4,
 "nbformat_minor": 4
}
